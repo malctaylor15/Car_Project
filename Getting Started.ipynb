{
 "cells": [
  {
   "cell_type": "code",
   "execution_count": 4,
   "metadata": {},
   "outputs": [],
   "source": [
    "import obd\n",
    "import csv\n",
    "import datetime"
   ]
  },
  {
   "cell_type": "code",
   "execution_count": null,
   "metadata": {},
   "outputs": [],
   "source": [
    "connection = obd.OBD()\n",
    "#create a command varialbe\n",
    "c = obd.commands.RPM\n",
    "#query the command and store the response\n",
    "response = connection.query(c)\n",
    "#print the response value\n",
    "print(response.value)\n",
    "#close the connection\n",
    "connection.close()\n"
   ]
  },
  {
   "cell_type": "code",
   "execution_count": null,
   "metadata": {},
   "outputs": [],
   "source": []
  },
  {
   "cell_type": "code",
   "execution_count": null,
   "metadata": {},
   "outputs": [],
   "source": []
  },
  {
   "cell_type": "code",
   "execution_count": null,
   "metadata": {},
   "outputs": [],
   "source": []
  },
  {
   "cell_type": "code",
   "execution_count": null,
   "metadata": {},
   "outputs": [],
   "source": [
    "connect = obd.Async(fast=False)\n"
   ]
  },
  {
   "cell_type": "code",
   "execution_count": null,
   "metadata": {},
   "outputs": [],
   "source": [
    "speed = 0\n",
    "rpm = 0\n",
    "load = 0\n",
    "\n",
    "def get_speed(s):\n",
    "\tglobal speed\n",
    "\tif not s.is_null():\n",
    "\t\t#speed = int(s.value.magnitude) #for kph\n",
    "\t\tspeed = int(s.value.magnitude * .060934) #for mph\n",
    "def get_rpm(r):\n",
    "\tglobal rpm\n",
    "\tif not r.is_null():\n",
    "\t\trpm = int(r.value.mangitude)\n",
    "def get_load(l):\n",
    "\tglobal load\n",
    "\tif not l.is_null():\n",
    "\t\tload = int(l.value.mangitude)\n",
    "        \n",
    "connection.watch(obd.commands.SPEED, callback=get_speed)\n",
    "connection.watch(obd.commands.RPM, callback=get_rpm)\n",
    "connection.watch(obd.commands.ENGINE_LOAD, callback=get_load)\n",
    "connection.start()"
   ]
  },
  {
   "cell_type": "code",
   "execution_count": null,
   "metadata": {},
   "outputs": [],
   "source": [
    "now = datetime.datetime.now()\n",
    "stop_time = datetime.timedelta(seconds=40)\n",
    "while running:\n",
    "\tfor event in pygame.event.get():\n",
    "\t\tif event.type == KEYDOWN:\n",
    "\t\t\tif event.key == K_ESCAPE:\n",
    "\t\t\t\tconnection.stop()\n",
    "\t\t\t\tconnection.close()\n",
    "\t\t\t\trunning = False\n",
    "\t\t\telif event.type == QUIT:\n",
    "\t\t\t\tconnection.stop()\n",
    "\t\t\t\tconnection.close()\n",
    "\t\t\t\trunning = False"
   ]
  },
  {
   "cell_type": "code",
   "execution_count": null,
   "metadata": {},
   "outputs": [],
   "source": []
  }
 ],
 "metadata": {
  "kernelspec": {
   "display_name": "Python 3",
   "language": "python",
   "name": "python3"
  },
  "language_info": {
   "codemirror_mode": {
    "name": "ipython",
    "version": 3
   },
   "file_extension": ".py",
   "mimetype": "text/x-python",
   "name": "python",
   "nbconvert_exporter": "python",
   "pygments_lexer": "ipython3",
   "version": "3.7.7"
  },
  "toc": {
   "base_numbering": 1,
   "nav_menu": {},
   "number_sections": true,
   "sideBar": true,
   "skip_h1_title": false,
   "title_cell": "Table of Contents",
   "title_sidebar": "Contents",
   "toc_cell": false,
   "toc_position": {},
   "toc_section_display": true,
   "toc_window_display": false
  }
 },
 "nbformat": 4,
 "nbformat_minor": 4
}

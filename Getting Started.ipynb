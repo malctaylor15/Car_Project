{
 "cells": [
  {
   "cell_type": "code",
   "execution_count": 1,
   "metadata": {},
   "outputs": [],
   "source": [
    "import obd\n",
    "import csv\n",
    "import datetime"
   ]
  },
  {
   "cell_type": "code",
   "execution_count": 2,
   "metadata": {},
   "outputs": [],
   "source": [
    "obd.logger.setLevel(obd.logging.DEBUG)"
   ]
  },
  {
   "cell_type": "code",
   "execution_count": null,
   "metadata": {
    "collapsed": true
   },
   "outputs": [],
   "source": []
  },
  {
   "cell_type": "code",
   "execution_count": 11,
   "metadata": {},
   "outputs": [
    {
     "data": {
      "text/plain": [
       "['/dev/rfcomm0']"
      ]
     },
     "execution_count": 11,
     "metadata": {},
     "output_type": "execute_result"
    }
   ],
   "source": [
    "obd.scan_serial()"
   ]
  },
  {
   "cell_type": "code",
   "execution_count": 14,
   "metadata": {
    "scrolled": false
   },
   "outputs": [
    {
     "name": "stderr",
     "output_type": "stream",
     "text": [
      "[obd.obd] ======================= python-OBD (v0.7.1) =======================\n",
      "[obd.obd] Using scan_serial to select port\n",
      "[obd.obd] Available ports: ['/dev/rfcomm0']\n",
      "[obd.obd] Attempting to use port: /dev/rfcomm0\n",
      "[obd.elm327] Initializing ELM327: PORT=/dev/rfcomm0 BAUD=38400 PROTOCOL=3\n",
      "[obd.elm327] write: b'ATZ\\r'\n",
      "[obd.elm327] wait: 1 seconds\n",
      "[obd.elm327] read: b'ATZ\\r\\r\\rELM327 v2.1\\r\\r>'\n",
      "[obd.elm327] write: b'ATE0\\r'\n",
      "[obd.elm327] read: b'ATE0\\rOK\\r\\r>'\n",
      "[obd.elm327] write: b'ATH1\\r'\n",
      "[obd.elm327] read: b'OK\\r\\r>'\n",
      "[obd.elm327] write: b'ATL0\\r'\n",
      "[obd.elm327] read: b'OK\\r\\r>'\n",
      "[obd.elm327] write: b'AT RV\\r'\n",
      "[obd.elm327] read: b'14.3V\\r\\r>'\n",
      "[obd.elm327] write: b'ATTP3\\r'\n",
      "[obd.elm327] read: b'OK\\r\\r>'\n",
      "[obd.elm327] write: b'0100\\r'\n",
      "[obd.elm327] read: b'BUS INIT: ...ERROR\\r\\r>'\n",
      "[obd.elm327] Connected Successfully: PORT=/dev/rfcomm0 BAUD=38400 PROTOCOL=3\n",
      "[obd.obd] querying for supported commands\n",
      "[obd.obd] Sending command: b'0100': Supported PIDs [01-20]\n",
      "[obd.elm327] write: b'0100\\r'\n",
      "[obd.elm327] read: b'BUS INIT: ...ERROR\\r\\r>'\n",
      "[obd.OBDCommand] b'0100': Supported PIDs [01-20] did not receive any acceptable messages\n",
      "[obd.obd] No valid data for PID listing command: b'0100': Supported PIDs [01-20]\n",
      "[obd.obd] finished querying with 7 commands supported\n",
      "[obd.obd] ===================================================================\n"
     ]
    }
   ],
   "source": [
    "connection = obd.OBD(baudrate=38400, fast=False, timeout=30, protocol='3')"
   ]
  },
  {
   "cell_type": "raw",
   "metadata": {},
   "source": [
    "connection = obd.OBD()\n",
    "#create a command varialbe\n",
    "c = obd.commands.RPM\n",
    "#query the command and store the response\n",
    "response = connection.query(c)\n",
    "#print the response value\n",
    "print(response.value)\n",
    "#close the connection\n",
    "connection.close()\n"
   ]
  },
  {
   "cell_type": "code",
   "execution_count": 20,
   "metadata": {},
   "outputs": [
    {
     "name": "stderr",
     "output_type": "stream",
     "text": [
      "[obd.obd] ======================= python-OBD (v0.7.1) =======================\n",
      "[obd.obd] Using scan_serial to select port\n",
      "[obd.obd] Available ports: ['/dev/rfcomm0']\n",
      "[obd.obd] Attempting to use port: /dev/rfcomm0\n",
      "[obd.elm327] Initializing ELM327: PORT=/dev/rfcomm0 BAUD=38400 PROTOCOL=3\n",
      "[obd.elm327] write: b'ATZ\\r'\n",
      "[obd.elm327] wait: 1 seconds\n",
      "[obd.elm327] read: b'\\r\\rELM327 v2.1\\r\\r>'\n",
      "[obd.elm327] write: b'ATE0\\r'\n",
      "[obd.elm327] read: b'ATE0\\rOK\\r\\r>'\n",
      "[obd.elm327] write: b'ATH1\\r'\n",
      "[obd.elm327] read: b'OK\\r\\r>'\n",
      "[obd.elm327] write: b'ATL0\\r'\n",
      "[obd.elm327] read: b'OK\\r\\r>'\n",
      "[obd.elm327] write: b'AT RV\\r'\n",
      "[obd.elm327] read: b'14.4V\\r\\r>'\n",
      "[obd.elm327] write: b'ATTP3\\r'\n",
      "[obd.elm327] read: b'OK\\r\\r>'\n",
      "[obd.elm327] write: b'0100\\r'\n",
      "[obd.elm327] read: b'BUS INIT: ...ERROR\\r\\r>'\n",
      "[obd.elm327] Connected Successfully: PORT=/dev/rfcomm0 BAUD=38400 PROTOCOL=3\n",
      "[obd.obd] querying for supported commands\n",
      "[obd.obd] Sending command: b'0100': Supported PIDs [01-20]\n",
      "[obd.elm327] write: b'0100\\r'\n",
      "[obd.elm327] read: b'BUS INIT: ...ERROR\\r\\r>'\n",
      "[obd.OBDCommand] b'0100': Supported PIDs [01-20] did not receive any acceptable messages\n",
      "[obd.obd] No valid data for PID listing command: b'0100': Supported PIDs [01-20]\n",
      "[obd.obd] finished querying with 7 commands supported\n",
      "[obd.obd] ===================================================================\n"
     ]
    }
   ],
   "source": [
    "connect = obd.Async(baudrate=38400, fast=False, protocol='3')"
   ]
  },
  {
   "cell_type": "code",
   "execution_count": 22,
   "metadata": {},
   "outputs": [
    {
     "name": "stdout",
     "output_type": "stream",
     "text": [
      "None\n"
     ]
    }
   ],
   "source": [
    "#create a command varialbe\n",
    "c = obd.commands.RPM\n",
    "#query the command and store the response\n",
    "response = connect.query(c)\n",
    "#print the response value\n",
    "print(response.value)"
   ]
  },
  {
   "cell_type": "raw",
   "metadata": {},
   "source": [
    "connection = obd.OBD(baudrate=38400, fast=False)"
   ]
  },
  {
   "cell_type": "code",
   "execution_count": 17,
   "metadata": {},
   "outputs": [
    {
     "name": "stderr",
     "output_type": "stream",
     "text": [
      "[obd.obd] 'b'010D': Vehicle Speed' is not supported\n"
     ]
    },
    {
     "name": "stdout",
     "output_type": "stream",
     "text": [
      "None\n"
     ]
    }
   ],
   "source": [
    "#create a command varialbe\n",
    "c = obd.commands.SPEED\n",
    "#query the command and store the response\n",
    "response = connection.query(c)\n",
    "#print the response value\n",
    "print(response.value)"
   ]
  },
  {
   "cell_type": "code",
   "execution_count": null,
   "metadata": {},
   "outputs": [],
   "source": []
  },
  {
   "cell_type": "code",
   "execution_count": null,
   "metadata": {},
   "outputs": [],
   "source": []
  },
  {
   "cell_type": "code",
   "execution_count": null,
   "metadata": {},
   "outputs": [],
   "source": [
    "connect = obd.Async(fast=False)\n"
   ]
  },
  {
   "cell_type": "code",
   "execution_count": null,
   "metadata": {},
   "outputs": [],
   "source": [
    "speed = 0\n",
    "rpm = 0\n",
    "load = 0\n",
    "\n",
    "def get_speed(s):\n",
    "\tglobal speed\n",
    "\tif not s.is_null():\n",
    "\t\t#speed = int(s.value.magnitude) #for kph\n",
    "\t\tspeed = int(s.value.magnitude * .060934) #for mph\n",
    "def get_rpm(r):\n",
    "\tglobal rpm\n",
    "\tif not r.is_null():\n",
    "\t\trpm = int(r.value.mangitude)\n",
    "def get_load(l):\n",
    "\tglobal load\n",
    "\tif not l.is_null():\n",
    "\t\tload = int(l.value.mangitude)\n",
    "        \n",
    "connection.watch(obd.commands.SPEED, callback=get_speed)\n",
    "connection.watch(obd.commands.RPM, callback=get_rpm)\n",
    "connection.watch(obd.commands.ENGINE_LOAD, callback=get_load)\n",
    "connection.start()"
   ]
  },
  {
   "cell_type": "code",
   "execution_count": null,
   "metadata": {},
   "outputs": [],
   "source": [
    "now = datetime.datetime.now()\n",
    "stop_time = datetime.timedelta(seconds=40)\n",
    "while running:\n",
    "\tfor event in pygame.event.get():\n",
    "\t\tif event.type == KEYDOWN:\n",
    "\t\t\tif event.key == K_ESCAPE:\n",
    "\t\t\t\tconnection.stop()\n",
    "\t\t\t\tconnection.close()\n",
    "\t\t\t\trunning = False\n",
    "\t\t\telif event.type == QUIT:\n",
    "\t\t\t\tconnection.stop()\n",
    "\t\t\t\tconnection.close()\n",
    "\t\t\t\trunning = False"
   ]
  },
  {
   "cell_type": "code",
   "execution_count": null,
   "metadata": {},
   "outputs": [],
   "source": []
  }
 ],
 "metadata": {
  "kernelspec": {
   "display_name": "Python 3",
   "language": "python",
   "name": "python3"
  },
  "language_info": {
   "codemirror_mode": {
    "name": "ipython",
    "version": 3
   },
   "file_extension": ".py",
   "mimetype": "text/x-python",
   "name": "python",
   "nbconvert_exporter": "python",
   "pygments_lexer": "ipython3",
   "version": "3.7.3"
  },
  "toc": {
   "base_numbering": 1,
   "nav_menu": {},
   "number_sections": true,
   "sideBar": true,
   "skip_h1_title": false,
   "title_cell": "Table of Contents",
   "title_sidebar": "Contents",
   "toc_cell": false,
   "toc_position": {},
   "toc_section_display": true,
   "toc_window_display": false
  }
 },
 "nbformat": 4,
 "nbformat_minor": 4
}
